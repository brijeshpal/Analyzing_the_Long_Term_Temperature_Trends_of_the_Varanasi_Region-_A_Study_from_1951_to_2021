{
 "cells": [
  {
   "cell_type": "code",
   "execution_count": 1,
   "id": "b63a5e52-d60b-49c7-b170-006875e0c0e7",
   "metadata": {},
   "outputs": [],
   "source": [
    "import pandas as pd"
   ]
  },
  {
   "cell_type": "code",
   "execution_count": 2,
   "id": "48931ed7-2856-418e-af06-09aa4c6fc671",
   "metadata": {},
   "outputs": [],
   "source": [
    "df=pd.read_csv('preprocess 1951 to 2021.csv')"
   ]
  },
  {
   "cell_type": "code",
   "execution_count": 3,
   "id": "dbb04fd3-9c17-47a7-b681-59b9cc7a1f11",
   "metadata": {},
   "outputs": [
    {
     "data": {
      "text/html": [
       "<div>\n",
       "<style scoped>\n",
       "    .dataframe tbody tr th:only-of-type {\n",
       "        vertical-align: middle;\n",
       "    }\n",
       "\n",
       "    .dataframe tbody tr th {\n",
       "        vertical-align: top;\n",
       "    }\n",
       "\n",
       "    .dataframe thead th {\n",
       "        text-align: right;\n",
       "    }\n",
       "</style>\n",
       "<table border=\"1\" class=\"dataframe\">\n",
       "  <thead>\n",
       "    <tr style=\"text-align: right;\">\n",
       "      <th></th>\n",
       "      <th>time</th>\n",
       "      <th>lon</th>\n",
       "      <th>lat</th>\n",
       "      <th>temp</th>\n",
       "      <th>year</th>\n",
       "      <th>month</th>\n",
       "      <th>day</th>\n",
       "    </tr>\n",
       "  </thead>\n",
       "  <tbody>\n",
       "    <tr>\n",
       "      <th>0</th>\n",
       "      <td>1951-01-01</td>\n",
       "      <td>83</td>\n",
       "      <td>25.5</td>\n",
       "      <td>22.980000</td>\n",
       "      <td>1951</td>\n",
       "      <td>1</td>\n",
       "      <td>1</td>\n",
       "    </tr>\n",
       "    <tr>\n",
       "      <th>1</th>\n",
       "      <td>1951-01-02</td>\n",
       "      <td>83</td>\n",
       "      <td>25.5</td>\n",
       "      <td>21.580000</td>\n",
       "      <td>1951</td>\n",
       "      <td>1</td>\n",
       "      <td>2</td>\n",
       "    </tr>\n",
       "    <tr>\n",
       "      <th>2</th>\n",
       "      <td>1951-01-03</td>\n",
       "      <td>83</td>\n",
       "      <td>25.5</td>\n",
       "      <td>21.510000</td>\n",
       "      <td>1951</td>\n",
       "      <td>1</td>\n",
       "      <td>3</td>\n",
       "    </tr>\n",
       "    <tr>\n",
       "      <th>3</th>\n",
       "      <td>1951-01-04</td>\n",
       "      <td>83</td>\n",
       "      <td>25.5</td>\n",
       "      <td>21.410000</td>\n",
       "      <td>1951</td>\n",
       "      <td>1</td>\n",
       "      <td>4</td>\n",
       "    </tr>\n",
       "    <tr>\n",
       "      <th>4</th>\n",
       "      <td>1951-01-05</td>\n",
       "      <td>83</td>\n",
       "      <td>25.5</td>\n",
       "      <td>22.889999</td>\n",
       "      <td>1951</td>\n",
       "      <td>1</td>\n",
       "      <td>5</td>\n",
       "    </tr>\n",
       "    <tr>\n",
       "      <th>...</th>\n",
       "      <td>...</td>\n",
       "      <td>...</td>\n",
       "      <td>...</td>\n",
       "      <td>...</td>\n",
       "      <td>...</td>\n",
       "      <td>...</td>\n",
       "      <td>...</td>\n",
       "    </tr>\n",
       "    <tr>\n",
       "      <th>25862</th>\n",
       "      <td>2021-12-27</td>\n",
       "      <td>83</td>\n",
       "      <td>25.5</td>\n",
       "      <td>24.007275</td>\n",
       "      <td>2021</td>\n",
       "      <td>12</td>\n",
       "      <td>27</td>\n",
       "    </tr>\n",
       "    <tr>\n",
       "      <th>25863</th>\n",
       "      <td>2021-12-28</td>\n",
       "      <td>83</td>\n",
       "      <td>25.5</td>\n",
       "      <td>21.532618</td>\n",
       "      <td>2021</td>\n",
       "      <td>12</td>\n",
       "      <td>28</td>\n",
       "    </tr>\n",
       "    <tr>\n",
       "      <th>25864</th>\n",
       "      <td>2021-12-29</td>\n",
       "      <td>83</td>\n",
       "      <td>25.5</td>\n",
       "      <td>18.243288</td>\n",
       "      <td>2021</td>\n",
       "      <td>12</td>\n",
       "      <td>29</td>\n",
       "    </tr>\n",
       "    <tr>\n",
       "      <th>25865</th>\n",
       "      <td>2021-12-30</td>\n",
       "      <td>83</td>\n",
       "      <td>25.5</td>\n",
       "      <td>18.774710</td>\n",
       "      <td>2021</td>\n",
       "      <td>12</td>\n",
       "      <td>30</td>\n",
       "    </tr>\n",
       "    <tr>\n",
       "      <th>25866</th>\n",
       "      <td>2021-12-31</td>\n",
       "      <td>83</td>\n",
       "      <td>25.5</td>\n",
       "      <td>18.886730</td>\n",
       "      <td>2021</td>\n",
       "      <td>12</td>\n",
       "      <td>31</td>\n",
       "    </tr>\n",
       "  </tbody>\n",
       "</table>\n",
       "<p>25867 rows × 7 columns</p>\n",
       "</div>"
      ],
      "text/plain": [
       "             time  lon   lat       temp  year  month  day\n",
       "0      1951-01-01   83  25.5  22.980000  1951      1    1\n",
       "1      1951-01-02   83  25.5  21.580000  1951      1    2\n",
       "2      1951-01-03   83  25.5  21.510000  1951      1    3\n",
       "3      1951-01-04   83  25.5  21.410000  1951      1    4\n",
       "4      1951-01-05   83  25.5  22.889999  1951      1    5\n",
       "...           ...  ...   ...        ...   ...    ...  ...\n",
       "25862  2021-12-27   83  25.5  24.007275  2021     12   27\n",
       "25863  2021-12-28   83  25.5  21.532618  2021     12   28\n",
       "25864  2021-12-29   83  25.5  18.243288  2021     12   29\n",
       "25865  2021-12-30   83  25.5  18.774710  2021     12   30\n",
       "25866  2021-12-31   83  25.5  18.886730  2021     12   31\n",
       "\n",
       "[25867 rows x 7 columns]"
      ]
     },
     "execution_count": 3,
     "metadata": {},
     "output_type": "execute_result"
    }
   ],
   "source": [
    "df"
   ]
  },
  {
   "cell_type": "code",
   "execution_count": 4,
   "id": "176aef1e-5cbf-4fe5-9875-797b1ebe9b7f",
   "metadata": {},
   "outputs": [
    {
     "data": {
      "text/plain": [
       "(25867, 7)"
      ]
     },
     "execution_count": 4,
     "metadata": {},
     "output_type": "execute_result"
    }
   ],
   "source": [
    "df.shape"
   ]
  },
  {
   "cell_type": "code",
   "execution_count": 5,
   "id": "b5cd9695-b83f-4074-80d6-b956987d36d8",
   "metadata": {},
   "outputs": [
    {
     "data": {
      "text/plain": [
       "(31.807187537710323, 0.0005870129968253979)"
      ]
     },
     "execution_count": 5,
     "metadata": {},
     "output_type": "execute_result"
    }
   ],
   "source": [
    "from sklearn.model_selection import train_test_split\n",
    "from sklearn.linear_model import LinearRegression\n",
    "from sklearn.metrics import mean_squared_error, r2_score\n",
    "\n",
    "# Prepare the dataset for linear regression\n",
    "# Using 'year' as the independent variable and 'temp' as the dependent variable\n",
    "X = df[['year']]\n",
    "y = df['temp']\n",
    "\n",
    "# Split the dataset into training and testing sets\n",
    "X_train, X_test, y_train, y_test = train_test_split(X, y, test_size=0.2, random_state=42)\n",
    "\n",
    "# Create a linear regression model\n",
    "model = LinearRegression()\n",
    "\n",
    "# Train the model\n",
    "model.fit(X_train, y_train)\n",
    "\n",
    "# Make predictions on the test set\n",
    "y_pred = model.predict(X_test)\n",
    "\n",
    "# Evaluate the model's performance\n",
    "mse = mean_squared_error(y_test, y_pred)\n",
    "r2 = r2_score(y_test, y_pred)\n",
    "\n",
    "mse, r2\n"
   ]
  },
  {
   "cell_type": "code",
   "execution_count": 6,
   "id": "d240622d-c55f-4f0a-b2d5-44f2d828a795",
   "metadata": {},
   "outputs": [
    {
     "data": {
      "text/plain": [
       "4.481702986745232"
      ]
     },
     "execution_count": 6,
     "metadata": {},
     "output_type": "execute_result"
    }
   ],
   "source": [
    "from sklearn.metrics import mean_absolute_error\n",
    "\n",
    "# Calculate the mean absolute error (MAE)\n",
    "mae = mean_absolute_error(y_test, y_pred)\n",
    "\n",
    "mae\n"
   ]
  },
  {
   "cell_type": "code",
   "execution_count": 9,
   "id": "2b84efa6-31d0-4772-a048-b9f0b44745d7",
   "metadata": {},
   "outputs": [
    {
     "data": {
      "image/png": "[encoded data removed]",
      "text/plain": [
       "<Figure size 1200x600 with 1 Axes>"
      ]
     },
     "metadata": {},
     "output_type": "display_data"
    }
   ],
   "source": [
    "import matplotlib.pyplot as plt \n",
    "plt.figure(figsize=(12, 6))\n",
    "plt.scatter(y_test, y_pred, color='blue', alpha=0.5, label='Predicted vs Actual')\n",
    "plt.plot([y_test.min(), y_test.max()], [y_test.min(), y_test.max()], color='red', lw=2, label='Perfect Prediction')\n",
    "plt.xlabel('Actual Temperature (°C)')\n",
    "plt.ylabel('Predicted Temperature (°C)')\n",
    "plt.title('Random Forest Regressor Model Performance')\n",
    "plt.legend()\n",
    "plt.show()"
   ]
  },
  {
   "cell_type": "code",
   "execution_count": 29,
   "id": "4ce29e80-6624-4ab0-904c-2d2cd1cf5ed8",
   "metadata": {},
   "outputs": [
    {
     "data": {
      "text/plain": [
       "(31.176127742230975, 0.026704541734020038, 4.454402617318498)"
      ]
     },
     "execution_count": 29,
     "metadata": {},
     "output_type": "execute_result"
    }
   ],
   "source": [
    "# It looks like the `scaler` object was not defined in the current context.\n",
    "# Let's redefine the scaler and apply the Decision Tree again.\n",
    "\n",
    "from sklearn.preprocessing import MinMaxScaler\n",
    "from sklearn.tree import DecisionTreeRegressor\n",
    "from sklearn.metrics import mean_squared_error, r2_score, mean_absolute_error\n",
    "import numpy as np\n",
    "\n",
    "# Scale the data again\n",
    "scaler = MinMaxScaler(feature_range=(0, 1))\n",
    "data_scaled = scaler.fit_transform(df[['year', 'temp']])\n",
    "\n",
    "# Create sequences of data\n",
    "def create_sequences(data, seq_length):\n",
    "    X = []\n",
    "    y = []\n",
    "    for i in range(seq_length, len(data)):\n",
    "        X.append(data[i-seq_length:i, 0])  # year data\n",
    "        y.append(data[i, 1])  # temperature data\n",
    "    return np.array(X), np.array(y)\n",
    "\n",
    "# Define sequence length\n",
    "seq_length = 5\n",
    "\n",
    "# Create sequences\n",
    "X, y = create_sequences(data_scaled, seq_length)\n",
    "\n",
    "# Reshape X for model input\n",
    "X = X.reshape((X.shape[0], X.shape[1], 1))\n",
    "\n",
    "# Split the data into training and testing sets\n",
    "X_train, X_test, y_train, y_test = train_test_split(X, y, test_size=0.2, random_state=42)\n",
    "\n",
    "# Create and train a Decision Tree Regressor model\n",
    "dt_model = DecisionTreeRegressor(random_state=42)\n",
    "dt_model.fit(X_train.reshape(X_train.shape[0], X_train.shape[1]), y_train)\n",
    "\n",
    "# Make predictions on the test set\n",
    "y_dt_pred = dt_model.predict(X_test.reshape(X_test.shape[0], X_test.shape[1]))\n",
    "\n",
    "# Inverse transform the predictions and true values\n",
    "y_dt_pred_inv = scaler.inverse_transform(np.concatenate((np.zeros((len(y_dt_pred), 1)), y_dt_pred.reshape(-1, 1)), axis=1))[:, 1]\n",
    "y_test_inv = scaler.inverse_transform(np.concatenate((np.zeros((len(y_test), 1)), y_test.reshape(-1, 1)), axis=1))[:, 1]\n",
    "\n",
    "# Evaluate the model's performance\n",
    "dt_mse = mean_squared_error(y_test_inv, y_dt_pred_inv)\n",
    "dt_r2 = r2_score(y_test_inv, y_dt_pred_inv)\n",
    "dt_mae = mean_absolute_error(y_test_inv, y_dt_pred_inv)\n",
    "\n",
    "dt_mse, dt_r2, dt_mae\n"
   ]
  },
  {
   "cell_type": "code",
   "execution_count": 30,
   "id": "de5f084d-7dfc-4945-9187-5e7d809d86e9",
   "metadata": {},
   "outputs": [
    {
     "data": {
      "text/plain": [
       "(31.18125465773553, 0.026544483255406037, 4.468994037592278)"
      ]
     },
     "execution_count": 30,
     "metadata": {},
     "output_type": "execute_result"
    }
   ],
   "source": [
    "from sklearn.ensemble import RandomForestRegressor\n",
    "\n",
    "# Create and train a Random Forest Regressor model\n",
    "rf_model = RandomForestRegressor(n_estimators=100, random_state=42)\n",
    "rf_model.fit(X_train.reshape(X_train.shape[0], X_train.shape[1]), y_train)\n",
    "\n",
    "# Make predictions on the test set\n",
    "y_rf_pred = rf_model.predict(X_test.reshape(X_test.shape[0], X_test.shape[1]))\n",
    "\n",
    "# Inverse transform the predictions and true values\n",
    "y_rf_pred_inv = scaler.inverse_transform(np.concatenate((np.zeros((len(y_rf_pred), 1)), y_rf_pred.reshape(-1, 1)), axis=1))[:, 1]\n",
    "y_test_inv = scaler.inverse_transform(np.concatenate((np.zeros((len(y_test), 1)), y_test.reshape(-1, 1)), axis=1))[:, 1]\n",
    "\n",
    "# Evaluate the model's performance\n",
    "rf_mse = mean_squared_error(y_test_inv, y_rf_pred_inv)\n",
    "rf_r2 = r2_score(y_test_inv, y_rf_pred_inv)\n",
    "rf_mae = mean_absolute_error(y_test_inv, y_rf_pred_inv)\n",
    "\n",
    "rf_mse, rf_r2, rf_mae\n"
   ]
  },
  {
   "cell_type": "code",
   "execution_count": 31,
   "id": "09adbe4a-ed00-4ceb-a115-a3e7870aa85d",
   "metadata": {},
   "outputs": [
    {
     "data": {
      "text/plain": [
       "(39.496530403198655, -0.23305222433459694, 5.077003897492346)"
      ]
     },
     "execution_count": 31,
     "metadata": {},
     "output_type": "execute_result"
    }
   ],
   "source": [
    "from sklearn.neighbors import KNeighborsRegressor\n",
    "\n",
    "# Create and train a K-Nearest Neighbors Regressor model\n",
    "knn_model = KNeighborsRegressor(n_neighbors=5)\n",
    "knn_model.fit(X_train.reshape(X_train.shape[0], X_train.shape[1]), y_train)\n",
    "\n",
    "# Make predictions on the test set\n",
    "y_knn_pred = knn_model.predict(X_test.reshape(X_test.shape[0], X_test.shape[1]))\n",
    "\n",
    "# Inverse transform the predictions and true values\n",
    "y_knn_pred_inv = scaler.inverse_transform(np.concatenate((np.zeros((len(y_knn_pred), 1)), y_knn_pred.reshape(-1, 1)), axis=1))[:, 1]\n",
    "y_test_inv = scaler.inverse_transform(np.concatenate((np.zeros((len(y_test), 1)), y_test.reshape(-1, 1)), axis=1))[:, 1]\n",
    "\n",
    "# Evaluate the model's performance\n",
    "knn_mse = mean_squared_error(y_test_inv, y_knn_pred_inv)\n",
    "knn_r2 = r2_score(y_test_inv, y_knn_pred_inv)\n",
    "knn_mae = mean_absolute_error(y_test_inv, y_knn_pred_inv)\n",
    "\n",
    "knn_mse, knn_r2, knn_mae\n"
   ]
  },
  {
   "cell_type": "code",
   "execution_count": null,
   "id": "4df39364-6054-41cb-9431-a4f867a1de4c",
   "metadata": {},
   "outputs": [],
   "source": []
  }
 ],
 "metadata": {
  "kernelspec": {
   "display_name": "Python 3 (ipykernel)",
   "language": "python",
   "name": "python3"
  },
  "language_info": {
   "codemirror_mode": {
    "name": "ipython",
    "version": 3
   },
   "file_extension": ".py",
   "mimetype": "text/x-python",
   "name": "python",
   "nbconvert_exporter": "python",
   "pygments_lexer": "ipython3",
   "version": "3.11.7"
  }
 },
 "nbformat": 4,
 "nbformat_minor": 5
}
