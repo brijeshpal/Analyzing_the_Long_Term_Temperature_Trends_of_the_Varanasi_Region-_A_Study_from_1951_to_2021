{
 "cells": [
  {
   "cell_type": "code",
   "execution_count": 2,
   "id": "bf2f2502-4b9f-484e-8b17-e1fb46d31839",
   "metadata": {},
   "outputs": [],
   "source": [
    "import pandas as pd"
   ]
  },
  {
   "cell_type": "code",
   "execution_count": 3,
   "id": "9ad15cb3-d0e0-47ea-a098-8422089b64c5",
   "metadata": {},
   "outputs": [],
   "source": [
    "df=pd.read_csv('merged_data_1951_2021.csv')"
   ]
  },
  {
   "cell_type": "code",
   "execution_count": 4,
   "id": "d2d2fee6-9759-46cd-a1ab-dd2fd83c6301",
   "metadata": {},
   "outputs": [
    {
     "data": {
      "text/html": [
       "<div>\n",
       "<style scoped>\n",
       "    .dataframe tbody tr th:only-of-type {\n",
       "        vertical-align: middle;\n",
       "    }\n",
       "\n",
       "    .dataframe tbody tr th {\n",
       "        vertical-align: top;\n",
       "    }\n",
       "\n",
       "    .dataframe thead th {\n",
       "        text-align: right;\n",
       "    }\n",
       "</style>\n",
       "<table border=\"1\" class=\"dataframe\">\n",
       "  <thead>\n",
       "    <tr style=\"text-align: right;\">\n",
       "      <th></th>\n",
       "      <th>time</th>\n",
       "      <th>lon</th>\n",
       "      <th>lat</th>\n",
       "      <th>temp</th>\n",
       "    </tr>\n",
       "  </thead>\n",
       "  <tbody>\n",
       "    <tr>\n",
       "      <th>0</th>\n",
       "      <td>1951-01-01</td>\n",
       "      <td>83</td>\n",
       "      <td>25.5</td>\n",
       "      <td>22.980000</td>\n",
       "    </tr>\n",
       "    <tr>\n",
       "      <th>1</th>\n",
       "      <td>1951-01-02</td>\n",
       "      <td>83</td>\n",
       "      <td>25.5</td>\n",
       "      <td>21.580000</td>\n",
       "    </tr>\n",
       "    <tr>\n",
       "      <th>2</th>\n",
       "      <td>1951-01-03</td>\n",
       "      <td>83</td>\n",
       "      <td>25.5</td>\n",
       "      <td>21.510000</td>\n",
       "    </tr>\n",
       "    <tr>\n",
       "      <th>3</th>\n",
       "      <td>1951-01-04</td>\n",
       "      <td>83</td>\n",
       "      <td>25.5</td>\n",
       "      <td>21.410000</td>\n",
       "    </tr>\n",
       "    <tr>\n",
       "      <th>4</th>\n",
       "      <td>1951-01-05</td>\n",
       "      <td>83</td>\n",
       "      <td>25.5</td>\n",
       "      <td>22.889999</td>\n",
       "    </tr>\n",
       "    <tr>\n",
       "      <th>...</th>\n",
       "      <td>...</td>\n",
       "      <td>...</td>\n",
       "      <td>...</td>\n",
       "      <td>...</td>\n",
       "    </tr>\n",
       "    <tr>\n",
       "      <th>25928</th>\n",
       "      <td>2021-12-27</td>\n",
       "      <td>83</td>\n",
       "      <td>25.5</td>\n",
       "      <td>24.007275</td>\n",
       "    </tr>\n",
       "    <tr>\n",
       "      <th>25929</th>\n",
       "      <td>2021-12-28</td>\n",
       "      <td>83</td>\n",
       "      <td>25.5</td>\n",
       "      <td>21.532618</td>\n",
       "    </tr>\n",
       "    <tr>\n",
       "      <th>25930</th>\n",
       "      <td>2021-12-29</td>\n",
       "      <td>83</td>\n",
       "      <td>25.5</td>\n",
       "      <td>18.243288</td>\n",
       "    </tr>\n",
       "    <tr>\n",
       "      <th>25931</th>\n",
       "      <td>2021-12-30</td>\n",
       "      <td>83</td>\n",
       "      <td>25.5</td>\n",
       "      <td>18.774710</td>\n",
       "    </tr>\n",
       "    <tr>\n",
       "      <th>25932</th>\n",
       "      <td>2021-12-31</td>\n",
       "      <td>83</td>\n",
       "      <td>25.5</td>\n",
       "      <td>18.886730</td>\n",
       "    </tr>\n",
       "  </tbody>\n",
       "</table>\n",
       "<p>25933 rows × 4 columns</p>\n",
       "</div>"
      ],
      "text/plain": [
       "             time  lon   lat       temp\n",
       "0      1951-01-01   83  25.5  22.980000\n",
       "1      1951-01-02   83  25.5  21.580000\n",
       "2      1951-01-03   83  25.5  21.510000\n",
       "3      1951-01-04   83  25.5  21.410000\n",
       "4      1951-01-05   83  25.5  22.889999\n",
       "...           ...  ...   ...        ...\n",
       "25928  2021-12-27   83  25.5  24.007275\n",
       "25929  2021-12-28   83  25.5  21.532618\n",
       "25930  2021-12-29   83  25.5  18.243288\n",
       "25931  2021-12-30   83  25.5  18.774710\n",
       "25932  2021-12-31   83  25.5  18.886730\n",
       "\n",
       "[25933 rows x 4 columns]"
      ]
     },
     "execution_count": 4,
     "metadata": {},
     "output_type": "execute_result"
    }
   ],
   "source": [
    "df"
   ]
  },
  {
   "cell_type": "code",
   "execution_count": 6,
   "id": "3cb0bc32-a26c-4626-8cb7-ce79e49b5879",
   "metadata": {},
   "outputs": [
    {
     "data": {
      "text/html": [
       "<div>\n",
       "<style scoped>\n",
       "    .dataframe tbody tr th:only-of-type {\n",
       "        vertical-align: middle;\n",
       "    }\n",
       "\n",
       "    .dataframe tbody tr th {\n",
       "        vertical-align: top;\n",
       "    }\n",
       "\n",
       "    .dataframe thead th {\n",
       "        text-align: right;\n",
       "    }\n",
       "</style>\n",
       "<table border=\"1\" class=\"dataframe\">\n",
       "  <thead>\n",
       "    <tr style=\"text-align: right;\">\n",
       "      <th></th>\n",
       "      <th>time</th>\n",
       "      <th>lon</th>\n",
       "      <th>lat</th>\n",
       "      <th>temp</th>\n",
       "    </tr>\n",
       "  </thead>\n",
       "  <tbody>\n",
       "    <tr>\n",
       "      <th>0</th>\n",
       "      <td>1951-01-01</td>\n",
       "      <td>83</td>\n",
       "      <td>25.5</td>\n",
       "      <td>22.980000</td>\n",
       "    </tr>\n",
       "    <tr>\n",
       "      <th>1</th>\n",
       "      <td>1951-01-02</td>\n",
       "      <td>83</td>\n",
       "      <td>25.5</td>\n",
       "      <td>21.580000</td>\n",
       "    </tr>\n",
       "    <tr>\n",
       "      <th>2</th>\n",
       "      <td>1951-01-03</td>\n",
       "      <td>83</td>\n",
       "      <td>25.5</td>\n",
       "      <td>21.510000</td>\n",
       "    </tr>\n",
       "    <tr>\n",
       "      <th>3</th>\n",
       "      <td>1951-01-04</td>\n",
       "      <td>83</td>\n",
       "      <td>25.5</td>\n",
       "      <td>21.410000</td>\n",
       "    </tr>\n",
       "    <tr>\n",
       "      <th>4</th>\n",
       "      <td>1951-01-05</td>\n",
       "      <td>83</td>\n",
       "      <td>25.5</td>\n",
       "      <td>22.889999</td>\n",
       "    </tr>\n",
       "  </tbody>\n",
       "</table>\n",
       "</div>"
      ],
      "text/plain": [
       "         time  lon   lat       temp\n",
       "0  1951-01-01   83  25.5  22.980000\n",
       "1  1951-01-02   83  25.5  21.580000\n",
       "2  1951-01-03   83  25.5  21.510000\n",
       "3  1951-01-04   83  25.5  21.410000\n",
       "4  1951-01-05   83  25.5  22.889999"
      ]
     },
     "execution_count": 6,
     "metadata": {},
     "output_type": "execute_result"
    }
   ],
   "source": [
    "df.head()"
   ]
  },
  {
   "cell_type": "code",
   "execution_count": 7,
   "id": "7c7ef683-ddc0-4fcd-9d36-85381bf56400",
   "metadata": {},
   "outputs": [
    {
     "data": {
      "text/html": [
       "<div>\n",
       "<style scoped>\n",
       "    .dataframe tbody tr th:only-of-type {\n",
       "        vertical-align: middle;\n",
       "    }\n",
       "\n",
       "    .dataframe tbody tr th {\n",
       "        vertical-align: top;\n",
       "    }\n",
       "\n",
       "    .dataframe thead th {\n",
       "        text-align: right;\n",
       "    }\n",
       "</style>\n",
       "<table border=\"1\" class=\"dataframe\">\n",
       "  <thead>\n",
       "    <tr style=\"text-align: right;\">\n",
       "      <th></th>\n",
       "      <th>time</th>\n",
       "      <th>lon</th>\n",
       "      <th>lat</th>\n",
       "      <th>temp</th>\n",
       "    </tr>\n",
       "  </thead>\n",
       "  <tbody>\n",
       "    <tr>\n",
       "      <th>25928</th>\n",
       "      <td>2021-12-27</td>\n",
       "      <td>83</td>\n",
       "      <td>25.5</td>\n",
       "      <td>24.007275</td>\n",
       "    </tr>\n",
       "    <tr>\n",
       "      <th>25929</th>\n",
       "      <td>2021-12-28</td>\n",
       "      <td>83</td>\n",
       "      <td>25.5</td>\n",
       "      <td>21.532618</td>\n",
       "    </tr>\n",
       "    <tr>\n",
       "      <th>25930</th>\n",
       "      <td>2021-12-29</td>\n",
       "      <td>83</td>\n",
       "      <td>25.5</td>\n",
       "      <td>18.243288</td>\n",
       "    </tr>\n",
       "    <tr>\n",
       "      <th>25931</th>\n",
       "      <td>2021-12-30</td>\n",
       "      <td>83</td>\n",
       "      <td>25.5</td>\n",
       "      <td>18.774710</td>\n",
       "    </tr>\n",
       "    <tr>\n",
       "      <th>25932</th>\n",
       "      <td>2021-12-31</td>\n",
       "      <td>83</td>\n",
       "      <td>25.5</td>\n",
       "      <td>18.886730</td>\n",
       "    </tr>\n",
       "  </tbody>\n",
       "</table>\n",
       "</div>"
      ],
      "text/plain": [
       "             time  lon   lat       temp\n",
       "25928  2021-12-27   83  25.5  24.007275\n",
       "25929  2021-12-28   83  25.5  21.532618\n",
       "25930  2021-12-29   83  25.5  18.243288\n",
       "25931  2021-12-30   83  25.5  18.774710\n",
       "25932  2021-12-31   83  25.5  18.886730"
      ]
     },
     "execution_count": 7,
     "metadata": {},
     "output_type": "execute_result"
    }
   ],
   "source": [
    "df.tail()"
   ]
  },
  {
   "cell_type": "code",
   "execution_count": 8,
   "id": "c9bfbe9d-d1c5-4121-b0b6-32e87a3e74e1",
   "metadata": {},
   "outputs": [
    {
     "data": {
      "text/html": [
       "<div>\n",
       "<style scoped>\n",
       "    .dataframe tbody tr th:only-of-type {\n",
       "        vertical-align: middle;\n",
       "    }\n",
       "\n",
       "    .dataframe tbody tr th {\n",
       "        vertical-align: top;\n",
       "    }\n",
       "\n",
       "    .dataframe thead th {\n",
       "        text-align: right;\n",
       "    }\n",
       "</style>\n",
       "<table border=\"1\" class=\"dataframe\">\n",
       "  <thead>\n",
       "    <tr style=\"text-align: right;\">\n",
       "      <th></th>\n",
       "      <th>time</th>\n",
       "      <th>lon</th>\n",
       "      <th>lat</th>\n",
       "      <th>temp</th>\n",
       "    </tr>\n",
       "  </thead>\n",
       "  <tbody>\n",
       "    <tr>\n",
       "      <th>0</th>\n",
       "      <td>False</td>\n",
       "      <td>False</td>\n",
       "      <td>False</td>\n",
       "      <td>False</td>\n",
       "    </tr>\n",
       "    <tr>\n",
       "      <th>1</th>\n",
       "      <td>False</td>\n",
       "      <td>False</td>\n",
       "      <td>False</td>\n",
       "      <td>False</td>\n",
       "    </tr>\n",
       "    <tr>\n",
       "      <th>2</th>\n",
       "      <td>False</td>\n",
       "      <td>False</td>\n",
       "      <td>False</td>\n",
       "      <td>False</td>\n",
       "    </tr>\n",
       "    <tr>\n",
       "      <th>3</th>\n",
       "      <td>False</td>\n",
       "      <td>False</td>\n",
       "      <td>False</td>\n",
       "      <td>False</td>\n",
       "    </tr>\n",
       "    <tr>\n",
       "      <th>4</th>\n",
       "      <td>False</td>\n",
       "      <td>False</td>\n",
       "      <td>False</td>\n",
       "      <td>False</td>\n",
       "    </tr>\n",
       "    <tr>\n",
       "      <th>...</th>\n",
       "      <td>...</td>\n",
       "      <td>...</td>\n",
       "      <td>...</td>\n",
       "      <td>...</td>\n",
       "    </tr>\n",
       "    <tr>\n",
       "      <th>25928</th>\n",
       "      <td>False</td>\n",
       "      <td>False</td>\n",
       "      <td>False</td>\n",
       "      <td>False</td>\n",
       "    </tr>\n",
       "    <tr>\n",
       "      <th>25929</th>\n",
       "      <td>False</td>\n",
       "      <td>False</td>\n",
       "      <td>False</td>\n",
       "      <td>False</td>\n",
       "    </tr>\n",
       "    <tr>\n",
       "      <th>25930</th>\n",
       "      <td>False</td>\n",
       "      <td>False</td>\n",
       "      <td>False</td>\n",
       "      <td>False</td>\n",
       "    </tr>\n",
       "    <tr>\n",
       "      <th>25931</th>\n",
       "      <td>False</td>\n",
       "      <td>False</td>\n",
       "      <td>False</td>\n",
       "      <td>False</td>\n",
       "    </tr>\n",
       "    <tr>\n",
       "      <th>25932</th>\n",
       "      <td>False</td>\n",
       "      <td>False</td>\n",
       "      <td>False</td>\n",
       "      <td>False</td>\n",
       "    </tr>\n",
       "  </tbody>\n",
       "</table>\n",
       "<p>25933 rows × 4 columns</p>\n",
       "</div>"
      ],
      "text/plain": [
       "        time    lon    lat   temp\n",
       "0      False  False  False  False\n",
       "1      False  False  False  False\n",
       "2      False  False  False  False\n",
       "3      False  False  False  False\n",
       "4      False  False  False  False\n",
       "...      ...    ...    ...    ...\n",
       "25928  False  False  False  False\n",
       "25929  False  False  False  False\n",
       "25930  False  False  False  False\n",
       "25931  False  False  False  False\n",
       "25932  False  False  False  False\n",
       "\n",
       "[25933 rows x 4 columns]"
      ]
     },
     "execution_count": 8,
     "metadata": {},
     "output_type": "execute_result"
    }
   ],
   "source": [
    "df.isnull()"
   ]
  },
  {
   "cell_type": "code",
   "execution_count": 12,
   "id": "70e7a3c8-e88f-4d83-a6a8-1736ef0466d1",
   "metadata": {},
   "outputs": [
    {
     "data": {
      "text/plain": [
       "time    0\n",
       "lon     0\n",
       "lat     0\n",
       "temp    2\n",
       "dtype: int64"
      ]
     },
     "execution_count": 12,
     "metadata": {},
     "output_type": "execute_result"
    }
   ],
   "source": [
    "df.isnull().sum()"
   ]
  },
  {
   "cell_type": "code",
   "execution_count": 15,
   "id": "eb4578bb-8a0b-49c5-820f-f5ed6ebb874f",
   "metadata": {},
   "outputs": [
    {
     "data": {
      "text/plain": [
       "(25933, 4)"
      ]
     },
     "execution_count": 15,
     "metadata": {},
     "output_type": "execute_result"
    }
   ],
   "source": [
    "df.shape"
   ]
  },
  {
   "cell_type": "code",
   "execution_count": 16,
   "id": "296561a9-fc40-40fa-af24-a718a309b804",
   "metadata": {},
   "outputs": [
    {
     "data": {
      "text/html": [
       "<div>\n",
       "<style scoped>\n",
       "    .dataframe tbody tr th:only-of-type {\n",
       "        vertical-align: middle;\n",
       "    }\n",
       "\n",
       "    .dataframe tbody tr th {\n",
       "        vertical-align: top;\n",
       "    }\n",
       "\n",
       "    .dataframe thead th {\n",
       "        text-align: right;\n",
       "    }\n",
       "</style>\n",
       "<table border=\"1\" class=\"dataframe\">\n",
       "  <thead>\n",
       "    <tr style=\"text-align: right;\">\n",
       "      <th></th>\n",
       "      <th>lon</th>\n",
       "      <th>lat</th>\n",
       "      <th>temp</th>\n",
       "    </tr>\n",
       "  </thead>\n",
       "  <tbody>\n",
       "    <tr>\n",
       "      <th>count</th>\n",
       "      <td>25933.0</td>\n",
       "      <td>25933.0</td>\n",
       "      <td>25931.000000</td>\n",
       "    </tr>\n",
       "    <tr>\n",
       "      <th>mean</th>\n",
       "      <td>83.0</td>\n",
       "      <td>25.5</td>\n",
       "      <td>32.020069</td>\n",
       "    </tr>\n",
       "    <tr>\n",
       "      <th>std</th>\n",
       "      <td>0.0</td>\n",
       "      <td>0.0</td>\n",
       "      <td>5.657074</td>\n",
       "    </tr>\n",
       "    <tr>\n",
       "      <th>min</th>\n",
       "      <td>83.0</td>\n",
       "      <td>25.5</td>\n",
       "      <td>13.174508</td>\n",
       "    </tr>\n",
       "    <tr>\n",
       "      <th>25%</th>\n",
       "      <td>83.0</td>\n",
       "      <td>25.5</td>\n",
       "      <td>28.099830</td>\n",
       "    </tr>\n",
       "    <tr>\n",
       "      <th>50%</th>\n",
       "      <td>83.0</td>\n",
       "      <td>25.5</td>\n",
       "      <td>32.505947</td>\n",
       "    </tr>\n",
       "    <tr>\n",
       "      <th>75%</th>\n",
       "      <td>83.0</td>\n",
       "      <td>25.5</td>\n",
       "      <td>35.540001</td>\n",
       "    </tr>\n",
       "    <tr>\n",
       "      <th>max</th>\n",
       "      <td>83.0</td>\n",
       "      <td>25.5</td>\n",
       "      <td>45.848640</td>\n",
       "    </tr>\n",
       "  </tbody>\n",
       "</table>\n",
       "</div>"
      ],
      "text/plain": [
       "           lon      lat          temp\n",
       "count  25933.0  25933.0  25931.000000\n",
       "mean      83.0     25.5     32.020069\n",
       "std        0.0      0.0      5.657074\n",
       "min       83.0     25.5     13.174508\n",
       "25%       83.0     25.5     28.099830\n",
       "50%       83.0     25.5     32.505947\n",
       "75%       83.0     25.5     35.540001\n",
       "max       83.0     25.5     45.848640"
      ]
     },
     "execution_count": 16,
     "metadata": {},
     "output_type": "execute_result"
    }
   ],
   "source": [
    "df.describe()"
   ]
  },
  {
   "cell_type": "code",
   "execution_count": 17,
   "id": "877b0ac7-cd1c-4644-b758-3b4d51cea764",
   "metadata": {},
   "outputs": [
    {
     "name": "stdout",
     "output_type": "stream",
     "text": [
      "The variable is numerical.\n"
     ]
    }
   ],
   "source": [
    "import pandas as pd\n",
    "\n",
    "# Assuming 'df' is your DataFrame and 'numerical_variable' is the name of the numerical variable\n",
    "# Replace 'numerical_variable' with the actual column name in your dataset\n",
    "if df['lon'].dtype == 'float64' or df['lon'].dtype == 'int64':\n",
    "    print(\"The variable is numerical.\")\n",
    "else:\n",
    "    print(\"The variable is not numerical.\")\n"
   ]
  },
  {
   "cell_type": "code",
   "execution_count": 18,
   "id": "479498c5-ace0-46cc-83bf-7daa38acdcde",
   "metadata": {},
   "outputs": [
    {
     "name": "stdout",
     "output_type": "stream",
     "text": [
      "The variable is numerical.\n"
     ]
    }
   ],
   "source": [
    "import pandas as pd\n",
    "\n",
    "# Assuming 'df' is your DataFrame and 'numerical_variable' is the name of the numerical variable\n",
    "# Replace 'numerical_variable' with the actual column name in your dataset\n",
    "if df['lat'].dtype == 'float64' or df['lat'].dtype == 'int64':\n",
    "    print(\"The variable is numerical.\")\n",
    "else:\n",
    "    print(\"The variable is not numerical.\")\n"
   ]
  },
  {
   "cell_type": "code",
   "execution_count": 19,
   "id": "64b5a2e7-94e6-496c-8421-3c807e1be731",
   "metadata": {},
   "outputs": [
    {
     "name": "stdout",
     "output_type": "stream",
     "text": [
      "The variable is numerical.\n"
     ]
    }
   ],
   "source": [
    "import pandas as pd\n",
    "\n",
    "# Assuming 'df' is your DataFrame and 'numerical_variable' is the name of the numerical variable\n",
    "# Replace 'numerical_variable' with the actual column name in your dataset\n",
    "if df['temp'].dtype == 'float64' or df['temp'].dtype == 'int64':\n",
    "    print(\"The variable is numerical.\")\n",
    "else:\n",
    "    print(\"The variable is not numerical.\")\n"
   ]
  },
  {
   "cell_type": "code",
   "execution_count": 20,
   "id": "748dea0d-8eb0-4ad9-8ec6-52df0e916221",
   "metadata": {},
   "outputs": [
    {
     "name": "stdout",
     "output_type": "stream",
     "text": [
      "The variable is not numerical.\n"
     ]
    }
   ],
   "source": [
    "if df['time'].dtype == 'float64' or df['time'].dtype == 'int64':\n",
    "    print(\"The variable is numerical.\")\n",
    "else:\n",
    "    print(\"The variable is not numerical.\")"
   ]
  },
  {
   "cell_type": "code",
   "execution_count": 21,
   "id": "44346101-a96a-4a9a-be0b-999b2a4e2347",
   "metadata": {},
   "outputs": [
    {
     "name": "stdout",
     "output_type": "stream",
     "text": [
      "The variable is not categorical.\n"
     ]
    },
    {
     "name": "stderr",
     "output_type": "stream",
     "text": [
      "C:\\Users\\Brijesh kumar\\AppData\\Local\\Temp\\ipykernel_11772\\208307877.py:5: DeprecationWarning: is_categorical_dtype is deprecated and will be removed in a future version. Use isinstance(dtype, pd.CategoricalDtype) instead\n",
      "  if pd.api.types.is_categorical_dtype(df['lon']):\n"
     ]
    }
   ],
   "source": [
    "import pandas as pd\n",
    "\n",
    "# Assuming 'df' is your DataFrame and 'categorical_variable' is the name of the categorical variable\n",
    "# Replace 'categorical_variable' with the actual column name in your dataset\n",
    "if pd.api.types.is_categorical_dtype(df['lon']):\n",
    "    print(\"The variable is categorical.\")\n",
    "else:\n",
    "    print(\"The variable is not categorical.\")\n"
   ]
  },
  {
   "cell_type": "code",
   "execution_count": 22,
   "id": "f9a2f404-5772-41c8-bf0e-be78b3411100",
   "metadata": {},
   "outputs": [
    {
     "name": "stdout",
     "output_type": "stream",
     "text": [
      "The variable is not categorical.\n"
     ]
    },
    {
     "name": "stderr",
     "output_type": "stream",
     "text": [
      "C:\\Users\\Brijesh kumar\\AppData\\Local\\Temp\\ipykernel_11772\\794860242.py:5: DeprecationWarning: is_categorical_dtype is deprecated and will be removed in a future version. Use isinstance(dtype, pd.CategoricalDtype) instead\n",
      "  if pd.api.types.is_categorical_dtype(df['lat']):\n"
     ]
    }
   ],
   "source": [
    "import pandas as pd\n",
    "\n",
    "# Assuming 'df' is your DataFrame and 'categorical_variable' is the name of the categorical variable\n",
    "# Replace 'categorical_variable' with the actual column name in your dataset\n",
    "if pd.api.types.is_categorical_dtype(df['lat']):\n",
    "    print(\"The variable is categorical.\")\n",
    "else:\n",
    "    print(\"The variable is not categorical.\")\n"
   ]
  },
  {
   "cell_type": "code",
   "execution_count": 23,
   "id": "135b8a58-ec39-4762-8de8-8b5be82eeffb",
   "metadata": {},
   "outputs": [
    {
     "name": "stdout",
     "output_type": "stream",
     "text": [
      "The variable is not categorical.\n"
     ]
    },
    {
     "name": "stderr",
     "output_type": "stream",
     "text": [
      "C:\\Users\\Brijesh kumar\\AppData\\Local\\Temp\\ipykernel_11772\\908624581.py:5: DeprecationWarning: is_categorical_dtype is deprecated and will be removed in a future version. Use isinstance(dtype, pd.CategoricalDtype) instead\n",
      "  if pd.api.types.is_categorical_dtype(df['temp']):\n"
     ]
    }
   ],
   "source": [
    "import pandas as pd\n",
    "\n",
    "# Assuming 'df' is your DataFrame and 'categorical_variable' is the name of the categorical variable\n",
    "# Replace 'categorical_variable' with the actual column name in your dataset\n",
    "if pd.api.types.is_categorical_dtype(df['temp']):\n",
    "    print(\"The variable is categorical.\")\n",
    "else:\n",
    "    print(\"The variable is not categorical.\")\n"
   ]
  },
  {
   "cell_type": "code",
   "execution_count": 24,
   "id": "bf2c0de7-9dd5-4881-b2ec-aba6623a5891",
   "metadata": {},
   "outputs": [
    {
     "name": "stdout",
     "output_type": "stream",
     "text": [
      "The variable is not categorical.\n"
     ]
    },
    {
     "name": "stderr",
     "output_type": "stream",
     "text": [
      "C:\\Users\\Brijesh kumar\\AppData\\Local\\Temp\\ipykernel_11772\\3279424208.py:5: DeprecationWarning: is_categorical_dtype is deprecated and will be removed in a future version. Use isinstance(dtype, pd.CategoricalDtype) instead\n",
      "  if pd.api.types.is_categorical_dtype(df['time']):\n"
     ]
    }
   ],
   "source": [
    "import pandas as pd\n",
    "\n",
    "# Assuming 'df' is your DataFrame and 'categorical_variable' is the name of the categorical variable\n",
    "# Replace 'categorical_variable' with the actual column name in your dataset\n",
    "if pd.api.types.is_categorical_dtype(df['time']):\n",
    "    print(\"The variable is categorical.\")\n",
    "else:\n",
    "    print(\"The variable is not categorical.\")\n"
   ]
  },
  {
   "cell_type": "code",
   "execution_count": 25,
   "id": "ae08e2e2-dfa2-48d0-9726-82f2fd1236a0",
   "metadata": {},
   "outputs": [
    {
     "data": {
      "text/plain": [
       "<Axes: xlabel='temp', ylabel='count'>"
      ]
     },
     "execution_count": 25,
     "metadata": {},
     "output_type": "execute_result"
    },
    {
     "data": {
      "image/png": "[encoded data removed]",
      "text/plain": [
       "<Figure size 640x480 with 1 Axes>"
      ]
     },
     "metadata": {},
     "output_type": "display_data"
    }
   ],
   "source": [
    "import seaborn as sns\n",
    "sns.countplot(x=df['temp'])"
   ]
  },
  {
   "cell_type": "code",
   "execution_count": 5,
   "id": "32168838-8b65-4ad6-a81b-34097938bdd9",
   "metadata": {},
   "outputs": [
    {
     "name": "stdout",
     "output_type": "stream",
     "text": [
      "Correlation coefficient between numerical_feature1 and numerical_feature2: nan\n"
     ]
    },
    {
     "name": "stderr",
     "output_type": "stream",
     "text": [
      "C:\\Users\\Brijesh kumar\\anaconda3\\Lib\\site-packages\\numpy\\lib\\function_base.py:2897: RuntimeWarning: invalid value encountered in divide\n",
      "  c /= stddev[:, None]\n",
      "C:\\Users\\Brijesh kumar\\anaconda3\\Lib\\site-packages\\numpy\\lib\\function_base.py:2898: RuntimeWarning: invalid value encountered in divide\n",
      "  c /= stddev[None, :]\n"
     ]
    }
   ],
   "source": [
    "correlation = df['lon'].corr(df['temp'])\n",
    "\n",
    "print(\"Correlation coefficient between numerical_feature1 and numerical_feature2:\", correlation)"
   ]
  },
  {
   "cell_type": "code",
   "execution_count": 9,
   "id": "a1794ac1-fb21-4dc8-ba18-d4697c479fd1",
   "metadata": {},
   "outputs": [
    {
     "name": "stdout",
     "output_type": "stream",
     "text": [
      "Correlation coefficient between numerical_feature1 and numerical_feature2: nan\n"
     ]
    },
    {
     "name": "stderr",
     "output_type": "stream",
     "text": [
      "C:\\Users\\Brijesh kumar\\anaconda3\\Lib\\site-packages\\numpy\\lib\\function_base.py:2897: RuntimeWarning: invalid value encountered in divide\n",
      "  c /= stddev[:, None]\n",
      "C:\\Users\\Brijesh kumar\\anaconda3\\Lib\\site-packages\\numpy\\lib\\function_base.py:2898: RuntimeWarning: invalid value encountered in divide\n",
      "  c /= stddev[None, :]\n"
     ]
    }
   ],
   "source": [
    "correlation = df['lat'].corr(df['temp'])\n",
    "\n",
    "print(\"Correlation coefficient between numerical_feature1 and numerical_feature2:\", correlation)"
   ]
  },
  {
   "cell_type": "code",
   "execution_count": 10,
   "id": "f7ecd4ff-526f-4865-a703-4a55b2f203b0",
   "metadata": {},
   "outputs": [
    {
     "name": "stdout",
     "output_type": "stream",
     "text": [
      "Correlation coefficient between numerical_feature1 and numerical_feature2: nan\n"
     ]
    }
   ],
   "source": [
    "correlation = df['lon'].corr(df['lat'])\n",
    "\n",
    "print(\"Correlation coefficient between numerical_feature1 and numerical_feature2:\", correlation)"
   ]
  },
  {
   "cell_type": "code",
   "execution_count": 11,
   "id": "324cec9e-9777-4aaa-8dd0-35bbc13ed873",
   "metadata": {},
   "outputs": [
    {
     "name": "stdout",
     "output_type": "stream",
     "text": [
      "Correlation coefficient between numerical_feature1 and numerical_feature2: 1.0\n"
     ]
    }
   ],
   "source": [
    "correlation = df['temp'].corr(df['temp'])\n",
    "\n",
    "print(\"Correlation coefficient between numerical_feature1 and numerical_feature2:\", correlation)"
   ]
  },
  {
   "cell_type": "code",
   "execution_count": 12,
   "id": "64a6a998-c936-494e-9c43-d1b9d8d26c26",
   "metadata": {},
   "outputs": [
    {
     "name": "stdout",
     "output_type": "stream",
     "text": [
      "Correlation coefficient between numerical_feature1 and numerical_feature2: nan\n"
     ]
    }
   ],
   "source": [
    "correlation = df['lon'].corr(df['lon'])\n",
    "\n",
    "print(\"Correlation coefficient between numerical_feature1 and numerical_feature2:\", correlation)"
   ]
  },
  {
   "cell_type": "code",
   "execution_count": null,
   "id": "6c27f2fa-573d-4f79-86f3-4b3aa1a53c1c",
   "metadata": {},
   "outputs": [],
   "source": [
    "correlation = df['lon'].corr(df['temp'])\n",
    "\n",
    "print(\"Correlation coefficient between numerical_feature1 and numerical_feature2:\", correlation)"
   ]
  },
  {
   "cell_type": "code",
   "execution_count": 6,
   "id": "54405813-1fc6-4d18-8f70-eb4079e4d892",
   "metadata": {},
   "outputs": [],
   "source": [
    "numeric_data = df.select_dtypes(include=['float64', 'int64']) "
   ]
  },
  {
   "cell_type": "code",
   "execution_count": 8,
   "id": "c51905d4-24e1-4e6b-b55d-8dd31674d15e",
   "metadata": {},
   "outputs": [
    {
     "data": {
      "text/plain": [
       "<Axes: >"
      ]
     },
     "execution_count": 8,
     "metadata": {},
     "output_type": "execute_result"
    },
    {
     "data": {
      "image/png": "[encoded data removed]",
      "text/plain": [
       "<Figure size 640x480 with 2 Axes>"
      ]
     },
     "metadata": {},
     "output_type": "display_data"
    }
   ],
   "source": [
    "import seaborn as sns\n",
    "sns.heatmap(numeric_data.corr())"
   ]
  },
  {
   "cell_type": "code",
   "execution_count": null,
   "id": "40b6b707-3006-4449-8ad6-81f391356a0e",
   "metadata": {},
   "outputs": [],
   "source": []
  }
 ],
 "metadata": {
  "kernelspec": {
   "display_name": "Python 3 (ipykernel)",
   "language": "python",
   "name": "python3"
  },
  "language_info": {
   "codemirror_mode": {
    "name": "ipython",
    "version": 3
   },
   "file_extension": ".py",
   "mimetype": "text/x-python",
   "name": "python",
   "nbconvert_exporter": "python",
   "pygments_lexer": "ipython3",
   "version": "3.11.7"
  }
 },
 "nbformat": 4,
 "nbformat_minor": 5
}
